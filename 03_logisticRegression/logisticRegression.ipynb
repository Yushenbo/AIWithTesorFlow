{
 "cells": [
  {
   "cell_type": "code",
   "execution_count": 8,
   "metadata": {},
   "outputs": [],
   "source": [
    "import tensorflow as tf\n",
    "\n",
    "# Data matrix\n",
    "x_data = [[1, 2], [2, 3], [3, 1], [4, 3], [5, 3], [6, 2]]\n",
    "y_data = [[0], [0], [0], [1], [1], [1]]"
   ]
  },
  {
   "cell_type": "markdown",
   "metadata": {},
   "source": [
    "Plcaeholder for a tensor that will be always feed"
   ]
  },
  {
   "cell_type": "code",
   "execution_count": 9,
   "metadata": {},
   "outputs": [],
   "source": [
    "X = tf.placeholder(tf.float32, shape = [None, 2])\n",
    "Y = tf.placeholder(tf.float32, shape = [None, 1])"
   ]
  },
  {
   "cell_type": "code",
   "execution_count": 11,
   "metadata": {},
   "outputs": [
    {
     "name": "stdout",
     "output_type": "stream",
     "text": [
      "0 2.7179155\n",
      "200 0.63345\n",
      "400 0.5727946\n",
      "600 0.53629756\n",
      "800 0.5098676\n",
      "1000 0.48828575\n",
      "1200 0.46938705\n",
      "1400 0.45218837\n",
      "1600 0.43620917\n",
      "1800 0.42119732\n",
      "2000 0.407011\n",
      "2200 0.39356342\n",
      "2400 0.3807952\n",
      "2600 0.36866143\n",
      "2800 0.35712525\n",
      "3000 0.34615377\n",
      "3200 0.3357168\n",
      "3400 0.32578596\n",
      "3600 0.31633392\n",
      "3800 0.30733505\n",
      "4000 0.2987641\n",
      "4200 0.29059765\n",
      "4400 0.28281295\n",
      "4600 0.27538857\n",
      "4800 0.26830423\n",
      "5000 0.2615406\n",
      "5200 0.25507957\n",
      "5400 0.24890395\n",
      "5600 0.24299772\n",
      "5800 0.23734577\n",
      "6000 0.23193373\n",
      "6200 0.2267483\n",
      "6400 0.22177698\n",
      "6600 0.21700805\n",
      "6800 0.21243048\n",
      "7000 0.20803387\n",
      "7200 0.20380862\n",
      "7400 0.19974564\n",
      "7600 0.19583635\n",
      "7800 0.19207282\n",
      "8000 0.18844761\n",
      "8200 0.18495367\n",
      "8400 0.18158434\n",
      "8600 0.17833346\n",
      "8800 0.17519522\n",
      "9000 0.17216407\n",
      "9200 0.16923495\n",
      "9400 0.16640298\n",
      "9600 0.16366374\n",
      "9800 0.16101271\n",
      "10000 0.15844592\n",
      "\n",
      "Hypothesis:  [[0.03459315]\n",
      " [0.16376118]\n",
      " [0.32280174]\n",
      " [0.77330476]\n",
      " [0.93437076]\n",
      " [0.97843826]] \n",
      "Correct(Y):  [[0.]\n",
      " [0.]\n",
      " [0.]\n",
      " [1.]\n",
      " [1.]\n",
      " [1.]] \n",
      "Accuracy:  1.0\n"
     ]
    }
   ],
   "source": [
    "W = tf.Variable(tf.random_normal([2, 1]), name = 'weight')\n",
    "b = tf.Variable(tf.random_normal([1]), name = 'bias')\n",
    "\n",
    "# Hypothesis using sigmoid: tf.div(1., 1. + tf.exp(tf.matmul(X, W)))\n",
    "hypothesis = tf.sigmoid(tf.matmul(X, W) + b)\n",
    "\n",
    "# cost/loss function\n",
    "cost = -tf.reduce_mean(Y * tf.log(hypothesis) + (1 - Y) * tf.log(1 - hypothesis))\n",
    "\n",
    "train = tf.train.GradientDescentOptimizer(learning_rate = 0.01).minimize(cost)\n",
    "\n",
    "# Accuracy computation\n",
    "# True if hypothesis > 0.5 else False\n",
    "\n",
    "predicted = tf.cast(hypothesis > 0.5, dtype = tf.float32)\n",
    "accuracy = tf.reduce_mean(tf.cast(tf.equal(predicted, Y), dtype = tf.float32))\n",
    "\n",
    "# Launch session\n",
    "with tf.Session() as sess:\n",
    "    # Initialize TensorFlow variables\n",
    "    sess.run(tf.global_variables_initializer())\n",
    "    \n",
    "    for step in range(10001):\n",
    "        cost_val, _ = sess.run([cost, train],\n",
    "                              feed_dict={X: x_data,\n",
    "                                        Y: y_data})\n",
    "        if step % 200 == 0:\n",
    "            print(step, cost_val)\n",
    "        \n",
    "    # Accuracy report\n",
    "    h, c, a = sess.run([hypothesis, predicted, accuracy],\n",
    "                      feed_dict = {X: x_data,\n",
    "                                  Y: y_data})\n",
    "    print(\"\\nHypothesis: \", h, \"\\nCorrect(Y): \", c, \"\\nAccuracy: \", a)"
   ]
  },
  {
   "cell_type": "code",
   "execution_count": null,
   "metadata": {},
   "outputs": [],
   "source": []
  }
 ],
 "metadata": {
  "kernelspec": {
   "display_name": "Python 3",
   "language": "python",
   "name": "python3"
  },
  "language_info": {
   "codemirror_mode": {
    "name": "ipython",
    "version": 3
   },
   "file_extension": ".py",
   "mimetype": "text/x-python",
   "name": "python",
   "nbconvert_exporter": "python",
   "pygments_lexer": "ipython3",
   "version": "3.6.7"
  }
 },
 "nbformat": 4,
 "nbformat_minor": 2
}
